{
  "nbformat": 4,
  "nbformat_minor": 0,
  "metadata": {
    "colab": {
      "name": "Case 3.ipynb",
      "provenance": [],
      "collapsed_sections": []
    },
    "kernelspec": {
      "name": "python3",
      "display_name": "Python 3"
    },
    "language_info": {
      "name": "python"
    }
  },
  "cells": [
    {
      "cell_type": "markdown",
      "metadata": {
        "id": "cCMZXHyHIl3N"
      },
      "source": [
        "# **Caso número 3**\n",
        "\n",
        "## **Estudiantes:**\n",
        "\n",
        "*   Marco Fonseca\n",
        "*   Emmanuel Arguedas\n",
        "\n",
        "\n",
        "\n",
        "\n"
      ]
    },
    {
      "cell_type": "markdown",
      "metadata": {
        "id": "qQ_T3QcXInG8"
      },
      "source": [
        "## 1. **Importar el CSV data.csv en Python. El delimitador de los valores es (;).**"
      ]
    },
    {
      "cell_type": "code",
      "metadata": {
        "colab": {
          "base_uri": "https://localhost:8080/"
        },
        "id": "etEEdSvSJ01T",
        "outputId": "f8347147-8f55-4a9f-d745-bcf43531518c"
      },
      "source": [
        "from google.colab import drive\n",
        "drive.mount('/content/drive')"
      ],
      "execution_count": null,
      "outputs": [
        {
          "output_type": "stream",
          "text": [
            "Mounted at /content/drive\n"
          ],
          "name": "stdout"
        }
      ]
    },
    {
      "cell_type": "code",
      "metadata": {
        "id": "gDPG3ygwKrXz"
      },
      "source": [
        "import numpy as np\n",
        "import pandas as pd"
      ],
      "execution_count": null,
      "outputs": []
    },
    {
      "cell_type": "code",
      "metadata": {
        "id": "G7NY4GYbMvtR"
      },
      "source": [
        "df = pd.read_csv('/content/drive/MyDrive/CSV Files/data (5).csv', sep=\";\")\n"
      ],
      "execution_count": null,
      "outputs": []
    },
    {
      "cell_type": "markdown",
      "metadata": {
        "id": "F0ru3F4KSc2C"
      },
      "source": [
        "## 2. **Mostrar los valores los primeros 5 valores del dataframe** "
      ]
    },
    {
      "cell_type": "code",
      "metadata": {
        "colab": {
          "base_uri": "https://localhost:8080/",
          "height": 204
        },
        "id": "56YtUDGCSkEk",
        "outputId": "aadb40e7-3b80-4c31-d203-fcdced57aa4c"
      },
      "source": [
        "df.head(n=5)"
      ],
      "execution_count": null,
      "outputs": [
        {
          "output_type": "execute_result",
          "data": {
            "text/html": [
              "<div>\n",
              "<style scoped>\n",
              "    .dataframe tbody tr th:only-of-type {\n",
              "        vertical-align: middle;\n",
              "    }\n",
              "\n",
              "    .dataframe tbody tr th {\n",
              "        vertical-align: top;\n",
              "    }\n",
              "\n",
              "    .dataframe thead th {\n",
              "        text-align: right;\n",
              "    }\n",
              "</style>\n",
              "<table border=\"1\" class=\"dataframe\">\n",
              "  <thead>\n",
              "    <tr style=\"text-align: right;\">\n",
              "      <th></th>\n",
              "      <th>id</th>\n",
              "      <th>FirstName</th>\n",
              "      <th>LastName</th>\n",
              "      <th>Gender</th>\n",
              "      <th>Birthday</th>\n",
              "      <th>Status</th>\n",
              "      <th>Salary</th>\n",
              "      <th>Taxes</th>\n",
              "      <th>Department</th>\n",
              "      <th>HourlyRate</th>\n",
              "      <th>MaritalStatus</th>\n",
              "      <th>OverTime</th>\n",
              "    </tr>\n",
              "  </thead>\n",
              "  <tbody>\n",
              "    <tr>\n",
              "      <th>0</th>\n",
              "      <td>1</td>\n",
              "      <td>Kimberley</td>\n",
              "      <td>Kuhic</td>\n",
              "      <td>F</td>\n",
              "      <td>15/5/90</td>\n",
              "      <td>--</td>\n",
              "      <td>110182.0</td>\n",
              "      <td>NaN</td>\n",
              "      <td>Sales</td>\n",
              "      <td>40</td>\n",
              "      <td>Single</td>\n",
              "      <td>Yes</td>\n",
              "    </tr>\n",
              "    <tr>\n",
              "      <th>1</th>\n",
              "      <td>1</td>\n",
              "      <td>Kitty</td>\n",
              "      <td>Ruecker</td>\n",
              "      <td>F</td>\n",
              "      <td>24/7/76</td>\n",
              "      <td>PE</td>\n",
              "      <td>90613.0</td>\n",
              "      <td>NaN</td>\n",
              "      <td>Sales</td>\n",
              "      <td>76</td>\n",
              "      <td>Married</td>\n",
              "      <td>No</td>\n",
              "    </tr>\n",
              "    <tr>\n",
              "      <th>2</th>\n",
              "      <td>5</td>\n",
              "      <td>Jamal</td>\n",
              "      <td>Cole</td>\n",
              "      <td>M</td>\n",
              "      <td>31/1/83</td>\n",
              "      <td>PE</td>\n",
              "      <td>109251.0</td>\n",
              "      <td>NaN</td>\n",
              "      <td>Research &amp; Development</td>\n",
              "      <td>89</td>\n",
              "      <td>Single</td>\n",
              "      <td>Yes</td>\n",
              "    </tr>\n",
              "    <tr>\n",
              "      <th>3</th>\n",
              "      <td>5</td>\n",
              "      <td>Christopher</td>\n",
              "      <td>D'Amore</td>\n",
              "      <td>F</td>\n",
              "      <td>16/3/74</td>\n",
              "      <td>PE</td>\n",
              "      <td>103614.0</td>\n",
              "      <td>NaN</td>\n",
              "      <td>Sales</td>\n",
              "      <td>78</td>\n",
              "      <td>Married</td>\n",
              "      <td>No</td>\n",
              "    </tr>\n",
              "    <tr>\n",
              "      <th>4</th>\n",
              "      <td>5</td>\n",
              "      <td>Carly</td>\n",
              "      <td>Ratke</td>\n",
              "      <td>M</td>\n",
              "      <td>16/1/98</td>\n",
              "      <td>PE</td>\n",
              "      <td>88315.0</td>\n",
              "      <td>NaN</td>\n",
              "      <td>Research &amp; Development</td>\n",
              "      <td>86</td>\n",
              "      <td>Single</td>\n",
              "      <td>Yes</td>\n",
              "    </tr>\n",
              "  </tbody>\n",
              "</table>\n",
              "</div>"
            ],
            "text/plain": [
              "   id    FirstName LastName  ... HourlyRate MaritalStatus OverTime\n",
              "0   1    Kimberley    Kuhic  ...         40        Single      Yes\n",
              "1   1        Kitty  Ruecker  ...         76       Married       No\n",
              "2   5        Jamal     Cole  ...         89        Single      Yes\n",
              "3   5  Christopher  D'Amore  ...         78       Married       No\n",
              "4   5        Carly    Ratke  ...         86        Single      Yes\n",
              "\n",
              "[5 rows x 12 columns]"
            ]
          },
          "metadata": {
            "tags": []
          },
          "execution_count": 4
        }
      ]
    },
    {
      "cell_type": "markdown",
      "metadata": {
        "id": "9HLCg4g6S57f"
      },
      "source": [
        "## 3. **Mostrar los últimos 5 valores del dataframe**"
      ]
    },
    {
      "cell_type": "code",
      "metadata": {
        "id": "hGOMFRphU3I1",
        "colab": {
          "base_uri": "https://localhost:8080/",
          "height": 204
        },
        "outputId": "96acdb3e-f4eb-4e46-ded2-3d532ed88402"
      },
      "source": [
        "df.tail(n=5)"
      ],
      "execution_count": null,
      "outputs": [
        {
          "output_type": "execute_result",
          "data": {
            "text/html": [
              "<div>\n",
              "<style scoped>\n",
              "    .dataframe tbody tr th:only-of-type {\n",
              "        vertical-align: middle;\n",
              "    }\n",
              "\n",
              "    .dataframe tbody tr th {\n",
              "        vertical-align: top;\n",
              "    }\n",
              "\n",
              "    .dataframe thead th {\n",
              "        text-align: right;\n",
              "    }\n",
              "</style>\n",
              "<table border=\"1\" class=\"dataframe\">\n",
              "  <thead>\n",
              "    <tr style=\"text-align: right;\">\n",
              "      <th></th>\n",
              "      <th>id</th>\n",
              "      <th>FirstName</th>\n",
              "      <th>LastName</th>\n",
              "      <th>Gender</th>\n",
              "      <th>Birthday</th>\n",
              "      <th>Status</th>\n",
              "      <th>Salary</th>\n",
              "      <th>Taxes</th>\n",
              "      <th>Department</th>\n",
              "      <th>HourlyRate</th>\n",
              "      <th>MaritalStatus</th>\n",
              "      <th>OverTime</th>\n",
              "    </tr>\n",
              "  </thead>\n",
              "  <tbody>\n",
              "    <tr>\n",
              "      <th>995</th>\n",
              "      <td>996</td>\n",
              "      <td>Linnie</td>\n",
              "      <td>Larson</td>\n",
              "      <td>F</td>\n",
              "      <td>4/3/80</td>\n",
              "      <td>PE</td>\n",
              "      <td>92815.0</td>\n",
              "      <td>NaN</td>\n",
              "      <td>Research &amp; Development</td>\n",
              "      <td>92</td>\n",
              "      <td>Single</td>\n",
              "      <td>Yes</td>\n",
              "    </tr>\n",
              "    <tr>\n",
              "      <th>996</th>\n",
              "      <td>997</td>\n",
              "      <td>Agusta</td>\n",
              "      <td>Emmerich</td>\n",
              "      <td>M</td>\n",
              "      <td>5/12/72</td>\n",
              "      <td>PE</td>\n",
              "      <td>114085.0</td>\n",
              "      <td>NaN</td>\n",
              "      <td>Research &amp; Development</td>\n",
              "      <td>91</td>\n",
              "      <td>Divorced</td>\n",
              "      <td>No</td>\n",
              "    </tr>\n",
              "    <tr>\n",
              "      <th>997</th>\n",
              "      <td>997</td>\n",
              "      <td>Andrew</td>\n",
              "      <td>Schulist</td>\n",
              "      <td>F</td>\n",
              "      <td>2/1/71</td>\n",
              "      <td>PE</td>\n",
              "      <td>101940.0</td>\n",
              "      <td>NaN</td>\n",
              "      <td>Research &amp; Development</td>\n",
              "      <td>34</td>\n",
              "      <td>Single</td>\n",
              "      <td>No</td>\n",
              "    </tr>\n",
              "    <tr>\n",
              "      <th>998</th>\n",
              "      <td>997</td>\n",
              "      <td>Brook</td>\n",
              "      <td>Turner</td>\n",
              "      <td>M</td>\n",
              "      <td>21/6/90</td>\n",
              "      <td>NaN</td>\n",
              "      <td>80734.0</td>\n",
              "      <td>NaN</td>\n",
              "      <td>Research &amp; Development</td>\n",
              "      <td>49</td>\n",
              "      <td>Married</td>\n",
              "      <td>No</td>\n",
              "    </tr>\n",
              "    <tr>\n",
              "      <th>999</th>\n",
              "      <td>999</td>\n",
              "      <td>Maceo</td>\n",
              "      <td>Wisoky</td>\n",
              "      <td>M</td>\n",
              "      <td>12/11/83</td>\n",
              "      <td>PE</td>\n",
              "      <td>142838.0</td>\n",
              "      <td>NaN</td>\n",
              "      <td>Human Resources</td>\n",
              "      <td>33</td>\n",
              "      <td>Married</td>\n",
              "      <td>No</td>\n",
              "    </tr>\n",
              "  </tbody>\n",
              "</table>\n",
              "</div>"
            ],
            "text/plain": [
              "      id FirstName  LastName  ... HourlyRate MaritalStatus OverTime\n",
              "995  996    Linnie    Larson  ...         92        Single      Yes\n",
              "996  997    Agusta  Emmerich  ...         91      Divorced       No\n",
              "997  997    Andrew  Schulist  ...         34        Single       No\n",
              "998  997     Brook    Turner  ...         49       Married       No\n",
              "999  999     Maceo    Wisoky  ...         33       Married       No\n",
              "\n",
              "[5 rows x 12 columns]"
            ]
          },
          "metadata": {
            "tags": []
          },
          "execution_count": 5
        }
      ]
    },
    {
      "cell_type": "markdown",
      "metadata": {
        "id": "dcuBpcerikyF"
      },
      "source": [
        "## 4. **Mostrar el tipo de dato (Dtype) de cada columna**"
      ]
    },
    {
      "cell_type": "code",
      "metadata": {
        "colab": {
          "base_uri": "https://localhost:8080/"
        },
        "id": "Kl9WH0nLik8z",
        "outputId": "ea70b597-9824-4353-b58e-b997be420b34"
      },
      "source": [
        "df.dtypes"
      ],
      "execution_count": null,
      "outputs": [
        {
          "output_type": "execute_result",
          "data": {
            "text/plain": [
              "id                 int64\n",
              "FirstName         object\n",
              "LastName          object\n",
              "Gender            object\n",
              "Birthday          object\n",
              "Status            object\n",
              "Salary           float64\n",
              "Taxes             object\n",
              "Department        object\n",
              "HourlyRate        object\n",
              "MaritalStatus     object\n",
              "OverTime          object\n",
              "dtype: object"
            ]
          },
          "metadata": {
            "tags": []
          },
          "execution_count": 6
        }
      ]
    },
    {
      "cell_type": "markdown",
      "metadata": {
        "id": "RkwQvtd5immV"
      },
      "source": [
        "## 5. **Mostrar la cantidad de valores nulos de cada columna**"
      ]
    },
    {
      "cell_type": "code",
      "metadata": {
        "colab": {
          "base_uri": "https://localhost:8080/"
        },
        "id": "sOi7xCPpimvT",
        "outputId": "ff5c3b92-779a-46f6-a07a-effb16d57a39"
      },
      "source": [
        "df.isnull().sum(axis = 0)\n"
      ],
      "execution_count": null,
      "outputs": [
        {
          "output_type": "execute_result",
          "data": {
            "text/plain": [
              "id                 0\n",
              "FirstName          2\n",
              "LastName           2\n",
              "Gender           207\n",
              "Birthday           2\n",
              "Status           178\n",
              "Salary             2\n",
              "Taxes            993\n",
              "Department        12\n",
              "HourlyRate         2\n",
              "MaritalStatus     25\n",
              "OverTime           2\n",
              "dtype: int64"
            ]
          },
          "metadata": {
            "tags": []
          },
          "execution_count": 7
        }
      ]
    },
    {
      "cell_type": "markdown",
      "metadata": {
        "id": "UPqraXVGi5kX"
      },
      "source": [
        "## 6. **Mostrar el porcentaje total de valores perdidos en todo el dataframe** "
      ]
    },
    {
      "cell_type": "code",
      "metadata": {
        "colab": {
          "base_uri": "https://localhost:8080/"
        },
        "id": "1nbCv6F9kYsJ",
        "outputId": "e455f6bc-14fa-452f-a04a-7af89deb2a04"
      },
      "source": [
        "data_count = np.product(df.shape)\n",
        "percent_of_df_nulls = ((df.isnull().sum().sum() / data_count)*100)\n",
        "\n",
        "print(percent_of_df_nulls)"
      ],
      "execution_count": null,
      "outputs": [
        {
          "output_type": "stream",
          "text": [
            "11.891666666666667\n"
          ],
          "name": "stdout"
        }
      ]
    },
    {
      "cell_type": "markdown",
      "metadata": {
        "id": "hpduas_dlSk2"
      },
      "source": [
        "## 7. **Mostrar el porcentaje de valores perdidos por columna**"
      ]
    },
    {
      "cell_type": "code",
      "metadata": {
        "colab": {
          "base_uri": "https://localhost:8080/"
        },
        "id": "zmfp0Ix2llTf",
        "outputId": "3218087a-1952-4750-fd55-7673fd19ec4e"
      },
      "source": [
        "percent_of_nulls_per_column = ((df.isnull().sum() / len(df))*100).sort_values(ascending = False) \n",
        "\n",
        "print(percent_of_nulls_per_column)"
      ],
      "execution_count": null,
      "outputs": [
        {
          "output_type": "stream",
          "text": [
            "Taxes            99.3\n",
            "Gender           20.7\n",
            "Status           17.8\n",
            "MaritalStatus     2.5\n",
            "Department        1.2\n",
            "OverTime          0.2\n",
            "HourlyRate        0.2\n",
            "Salary            0.2\n",
            "Birthday          0.2\n",
            "LastName          0.2\n",
            "FirstName         0.2\n",
            "id                0.0\n",
            "dtype: float64\n"
          ],
          "name": "stdout"
        }
      ]
    },
    {
      "cell_type": "markdown",
      "metadata": {
        "id": "WW19KOE8mp57"
      },
      "source": [
        "## 8. **Eliminar aquellas columnas que tengan más del 70% de sus valores nulos.**"
      ]
    },
    {
      "cell_type": "code",
      "metadata": {
        "id": "NHZyxy5kmwpC"
      },
      "source": [
        "df.drop('Taxes', axis = 1, inplace = True)"
      ],
      "execution_count": null,
      "outputs": []
    },
    {
      "cell_type": "markdown",
      "metadata": {
        "id": "rCPuUi8En_Qd"
      },
      "source": [
        "## **9. Eliminar aquellas filas que tengan menos de dos elementos**"
      ]
    },
    {
      "cell_type": "markdown",
      "metadata": {
        "id": "5Tu0oRFG4d6N"
      },
      "source": [
        "Rows vacias"
      ]
    },
    {
      "cell_type": "code",
      "metadata": {
        "colab": {
          "base_uri": "https://localhost:8080/"
        },
        "id": "R9b0-qSV4KBf",
        "outputId": "a37a530d-992f-44e3-dc8a-0d55c835145d"
      },
      "source": [
        "print(df.iloc[[182,592]])"
      ],
      "execution_count": null,
      "outputs": [
        {
          "output_type": "stream",
          "text": [
            "      id FirstName LastName Gender  ... Department HourlyRate  MaritalStatus OverTime\n",
            "182  188       NaN      NaN    NaN  ...        NaN        NaN            NaN      NaN\n",
            "592  592       NaN      NaN    NaN  ...        NaN        NaN            NaN      NaN\n",
            "\n",
            "[2 rows x 11 columns]\n"
          ],
          "name": "stdout"
        }
      ]
    },
    {
      "cell_type": "markdown",
      "metadata": {
        "id": "rK6KJddd4q5c"
      },
      "source": [
        "Eliminar Rows Vacías"
      ]
    },
    {
      "cell_type": "code",
      "metadata": {
        "id": "_DRh7oHL4qC-"
      },
      "source": [
        "df.drop([182,592], axis=0, inplace=True)"
      ],
      "execution_count": null,
      "outputs": []
    },
    {
      "cell_type": "markdown",
      "metadata": {
        "id": "DQ7EgRsD44F8"
      },
      "source": [
        "## **10.Reemplace los String “--\" por valores nulos**"
      ]
    },
    {
      "cell_type": "code",
      "metadata": {
        "id": "P7nYKvTu5Dst",
        "colab": {
          "base_uri": "https://localhost:8080/",
          "height": 204
        },
        "outputId": "b2001444-27bb-41a6-ad0e-904c6e569a50"
      },
      "source": [
        "valores_faltants = [\"--\"]\n",
        "df = pd.read_csv('/content/drive/MyDrive/CSV Files/data (5).csv', sep=\";\", na_values = valores_faltants)\n",
        "df.head()"
      ],
      "execution_count": null,
      "outputs": [
        {
          "output_type": "execute_result",
          "data": {
            "text/html": [
              "<div>\n",
              "<style scoped>\n",
              "    .dataframe tbody tr th:only-of-type {\n",
              "        vertical-align: middle;\n",
              "    }\n",
              "\n",
              "    .dataframe tbody tr th {\n",
              "        vertical-align: top;\n",
              "    }\n",
              "\n",
              "    .dataframe thead th {\n",
              "        text-align: right;\n",
              "    }\n",
              "</style>\n",
              "<table border=\"1\" class=\"dataframe\">\n",
              "  <thead>\n",
              "    <tr style=\"text-align: right;\">\n",
              "      <th></th>\n",
              "      <th>id</th>\n",
              "      <th>FirstName</th>\n",
              "      <th>LastName</th>\n",
              "      <th>Gender</th>\n",
              "      <th>Birthday</th>\n",
              "      <th>Status</th>\n",
              "      <th>Salary</th>\n",
              "      <th>Taxes</th>\n",
              "      <th>Department</th>\n",
              "      <th>HourlyRate</th>\n",
              "      <th>MaritalStatus</th>\n",
              "      <th>OverTime</th>\n",
              "    </tr>\n",
              "  </thead>\n",
              "  <tbody>\n",
              "    <tr>\n",
              "      <th>0</th>\n",
              "      <td>1</td>\n",
              "      <td>Kimberley</td>\n",
              "      <td>Kuhic</td>\n",
              "      <td>F</td>\n",
              "      <td>15/5/90</td>\n",
              "      <td>NaN</td>\n",
              "      <td>110182.0</td>\n",
              "      <td>NaN</td>\n",
              "      <td>Sales</td>\n",
              "      <td>40.0</td>\n",
              "      <td>Single</td>\n",
              "      <td>Yes</td>\n",
              "    </tr>\n",
              "    <tr>\n",
              "      <th>1</th>\n",
              "      <td>1</td>\n",
              "      <td>Kitty</td>\n",
              "      <td>Ruecker</td>\n",
              "      <td>F</td>\n",
              "      <td>24/7/76</td>\n",
              "      <td>PE</td>\n",
              "      <td>90613.0</td>\n",
              "      <td>NaN</td>\n",
              "      <td>Sales</td>\n",
              "      <td>76.0</td>\n",
              "      <td>Married</td>\n",
              "      <td>No</td>\n",
              "    </tr>\n",
              "    <tr>\n",
              "      <th>2</th>\n",
              "      <td>5</td>\n",
              "      <td>Jamal</td>\n",
              "      <td>Cole</td>\n",
              "      <td>M</td>\n",
              "      <td>31/1/83</td>\n",
              "      <td>PE</td>\n",
              "      <td>109251.0</td>\n",
              "      <td>NaN</td>\n",
              "      <td>Research &amp; Development</td>\n",
              "      <td>89.0</td>\n",
              "      <td>Single</td>\n",
              "      <td>Yes</td>\n",
              "    </tr>\n",
              "    <tr>\n",
              "      <th>3</th>\n",
              "      <td>5</td>\n",
              "      <td>Christopher</td>\n",
              "      <td>D'Amore</td>\n",
              "      <td>F</td>\n",
              "      <td>16/3/74</td>\n",
              "      <td>PE</td>\n",
              "      <td>103614.0</td>\n",
              "      <td>NaN</td>\n",
              "      <td>Sales</td>\n",
              "      <td>78.0</td>\n",
              "      <td>Married</td>\n",
              "      <td>No</td>\n",
              "    </tr>\n",
              "    <tr>\n",
              "      <th>4</th>\n",
              "      <td>5</td>\n",
              "      <td>Carly</td>\n",
              "      <td>Ratke</td>\n",
              "      <td>M</td>\n",
              "      <td>16/1/98</td>\n",
              "      <td>PE</td>\n",
              "      <td>88315.0</td>\n",
              "      <td>NaN</td>\n",
              "      <td>Research &amp; Development</td>\n",
              "      <td>86.0</td>\n",
              "      <td>Single</td>\n",
              "      <td>Yes</td>\n",
              "    </tr>\n",
              "  </tbody>\n",
              "</table>\n",
              "</div>"
            ],
            "text/plain": [
              "   id    FirstName LastName  ... HourlyRate MaritalStatus OverTime\n",
              "0   1    Kimberley    Kuhic  ...       40.0        Single      Yes\n",
              "1   1        Kitty  Ruecker  ...       76.0       Married       No\n",
              "2   5        Jamal     Cole  ...       89.0        Single      Yes\n",
              "3   5  Christopher  D'Amore  ...       78.0       Married       No\n",
              "4   5        Carly    Ratke  ...       86.0        Single      Yes\n",
              "\n",
              "[5 rows x 12 columns]"
            ]
          },
          "metadata": {
            "tags": []
          },
          "execution_count": 14
        }
      ]
    },
    {
      "cell_type": "markdown",
      "metadata": {
        "id": "NIYutjQn6MVC"
      },
      "source": [
        "## **11. Reemplazar los valores nulos de la columna de “Gender” por U (Unknown) para aquellos empleados que no especificaron este campo**"
      ]
    },
    {
      "cell_type": "code",
      "metadata": {
        "id": "WSYCyyvV6aJo"
      },
      "source": [
        "df['Gender'].fillna(\"U\", inplace=True)"
      ],
      "execution_count": null,
      "outputs": []
    },
    {
      "cell_type": "markdown",
      "metadata": {
        "id": "lXO6uM-w6jT7"
      },
      "source": [
        "## **12. Reemplazar los valores nulos de la columna “Departamento” por “Bench”**"
      ]
    },
    {
      "cell_type": "code",
      "metadata": {
        "id": "v-2zl9bM7UMr"
      },
      "source": [
        "df = df.fillna({'Department': 'Bench'})"
      ],
      "execution_count": null,
      "outputs": []
    },
    {
      "cell_type": "markdown",
      "metadata": {
        "id": "y2p2CEzv7l7S"
      },
      "source": [
        "## **13. Reemplazar los valores nulos de la columna “HourlyRate” por la mediana**"
      ]
    },
    {
      "cell_type": "code",
      "metadata": {
        "id": "F0LIwjLt8Bp_"
      },
      "source": [
        "esta_es_la_mediana = df['HourlyRate'].median()\n",
        "df['HourlyRate'].fillna(esta_es_la_mediana, inplace=True)"
      ],
      "execution_count": null,
      "outputs": []
    },
    {
      "cell_type": "markdown",
      "metadata": {
        "id": "JwZhQST18lxq"
      },
      "source": [
        "## **14. Reemplazar los valores perdidos inesperados de la columna “Overtime” por No**"
      ]
    },
    {
      "cell_type": "code",
      "metadata": {
        "id": "16bOmNe39hCL"
      },
      "source": [
        "counter=0\n",
        "for row in df['OverTime']:\n",
        "    try:\n",
        "        int(row)\n",
        "        df.loc[counter, 'OverTime']=np.nan\n",
        "    except ValueError:\n",
        "        pass\n",
        "    counter=1"
      ],
      "execution_count": null,
      "outputs": []
    },
    {
      "cell_type": "markdown",
      "metadata": {
        "id": "7A1fgWqX-JjS"
      },
      "source": [
        "## **15. Salvar el dataframe una vez realizado el procesamiento de los puntos anteriores**"
      ]
    },
    {
      "cell_type": "code",
      "metadata": {
        "id": "khT0JTfC-X1g"
      },
      "source": [
        "df.to_csv('data.csv')\n",
        "!cp data.csv \"/content/drive/MyDrive/Case 3 Data (Clean)\""
      ],
      "execution_count": null,
      "outputs": []
    },
    {
      "cell_type": "markdown",
      "metadata": {
        "id": "0z4aJuu6oZ1-"
      },
      "source": [
        "# **16. Documentarción.**"
      ]
    },
    {
      "cell_type": "markdown",
      "metadata": {
        "id": "KnNGBxDTocgS"
      },
      "source": [
        "Iniciamos como cualquier proyecto de este estilo, importando la data que elegimos, o como lo es en este caso, la que nos brindaron, despues de eso, comenzamos a trabajar la data brindada.\n",
        "El segundo punto pide mostrar los valores los primeros 5 valores del dataframe, mediante la función head(5), que nos permitirá ver los primeros 5 valores.\n",
        "El tercer punto nos pide mostrar los utlimos 5 puntos del dataframe, mediante la funcion tail, que por si misma nos muestra los ultimos 5 valores.\n",
        "El cuarto punto trata de mostrar el tipo de dato (Dtype) de cada columna, que con la función Dtype, nos permitirá efectuar lo pedido.\n",
        "El quinto punto pide mostrar la cantidad de valores nulos de cada columna, que para ver los valores nulos, se utilizará la función isnull().sum(axis = 0) para mostrar los valores nulos de cada columna.\n",
        "El sexto punto pide mostrar el porcentaje total de valores perdidos en todo el dataframe. aqui lo que se hace en el codigo es contar los valores, pero especificaremos en el codigo que solo queremos los nulos con su porcentaje.\n",
        "El punto siete solicita mostrar el porcentaje de valores perdidos por columnas, primero solicitamos el porcentaje de valore nulos por columna mediante este código \"((df.isnull().sum() / len(df))*100).sort_values(ascending = False) \n",
        "\n",
        "print(percent_of_nulls_per_column)\"\n",
        "Apartir del punto 8, nos encargamos de limpiar la data, en este caso con este código drop \"('Taxes', axis = 1, inplace = True)\", para eliminar aquellas columnas que tengan más del 70% de sus valores nulos.\n",
        "El punto 9 trata de limpieza también, mediante print(df.iloc[[182,592]]) llamamos las filas y con drop([182,592], axis=0, inplace=True) nos encargamos de borrar las filas vacias.\n",
        "El punto 10 utilizamos el código valores_faltants = [\"--\"]\n",
        "df = pd.read_csv('/content/drive/MyDrive/CSV Files/data (5).csv', sep=\";\", na_values = valores_faltants)\n",
        "df.head(), para remplazar los valores, por guiones (--), para así tener de cierta manera una data más limpia.\n",
        "El punto 11 ['Gender'].fillna(\"U\", inplace=True), para reemplazar los valores nulos de la columna de “Gender” por U=unknowun para aquellos empleados que no especificaron este campo.\n",
        "El punto 12 fillna({'Department': 'Bench'}) utilizamos este código, para reemplazar los valores nulos de la columna \"Departamento\" por \"Brench\".\n",
        "El punto 13 ['HourlyRate'].median()\n",
        "df['HourlyRate'].fillna(esta_es_la_mediana, inplace=True), esto lo que nos permitirá es realizar los valores nulos de la columna \"HourleyRate\" por la mediana.\n",
        "En el punto 14 implementamos este código. counter=0\n",
        "for row in df['OverTime']:\n",
        "    try:\n",
        "        int(row)\n",
        "        df.loc[counter, 'OverTime']=np.nan\n",
        "    except ValueError:\n",
        "        pass\n",
        "    counter=1\n",
        "Con el cual reemplazamos los valores perdidos inesperados de la columna \"Overtime\" por un NO\n",
        "En el punto 15 to_csv('data.csv')\n",
        "!cp data.csv \"/content/drive/MyDrive/Case 3 Data (Clean)\" Aqui lo que hacemos es salvar los datos hechos en la limpieza, con los puntos anteriores hechos.\n",
        "\n",
        "\n"
      ]
    },
    {
      "cell_type": "markdown",
      "metadata": {
        "id": "kgcrlnTg83zU"
      },
      "source": [
        "#17. Escoger la estructura de carpetas y la nomenclatura de las carpetas y los archivos para los datos sin procesar y los datos procesados, además el código de Python.\n",
        "Todo, será guardado en una misma carpeta, para evitar que ocurra una perdida o tener todo mal distribuído."
      ]
    }
  ]
}